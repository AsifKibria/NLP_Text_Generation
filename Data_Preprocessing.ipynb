{
 "cells": [
  {
   "cell_type": "markdown",
   "id": "e4914687",
   "metadata": {},
   "source": [
    "# NLP Text Generation \n",
    "\n",
    "## This Notebook is a part of text generation (Lyrics) [project](https://github.com/AsifKibria/NLP_Text_Generation). This is the part of *Data Preprocessing and cleaning*.\n",
    "\n",
    "### Include our required packages"
   ]
  },
  {
   "cell_type": "code",
   "execution_count": 1,
   "id": "899732f6",
   "metadata": {},
   "outputs": [],
   "source": [
    "import pandas as pd\n",
    "import numpy as np\n",
    "import matplotlib.pyplot as plt\n",
    "import seaborn as sns"
   ]
  },
  {
   "cell_type": "code",
   "execution_count": 25,
   "id": "12ff1ce6",
   "metadata": {},
   "outputs": [],
   "source": [
    "# Importing the data to df (Only the lyrics data )\n",
    "df = pd.read_csv('raw_data/lyrics-data.csv')"
   ]
  },
  {
   "cell_type": "code",
   "execution_count": 26,
   "id": "71eed5d5",
   "metadata": {},
   "outputs": [
    {
     "data": {
      "text/html": [
       "<div>\n",
       "<style scoped>\n",
       "    .dataframe tbody tr th:only-of-type {\n",
       "        vertical-align: middle;\n",
       "    }\n",
       "\n",
       "    .dataframe tbody tr th {\n",
       "        vertical-align: top;\n",
       "    }\n",
       "\n",
       "    .dataframe thead th {\n",
       "        text-align: right;\n",
       "    }\n",
       "</style>\n",
       "<table border=\"1\" class=\"dataframe\">\n",
       "  <thead>\n",
       "    <tr style=\"text-align: right;\">\n",
       "      <th></th>\n",
       "      <th>ALink</th>\n",
       "      <th>SName</th>\n",
       "      <th>SLink</th>\n",
       "      <th>Lyric</th>\n",
       "      <th>Idiom</th>\n",
       "    </tr>\n",
       "  </thead>\n",
       "  <tbody>\n",
       "    <tr>\n",
       "      <th>0</th>\n",
       "      <td>/10000-maniacs/</td>\n",
       "      <td>More Than This</td>\n",
       "      <td>/10000-maniacs/more-than-this.html</td>\n",
       "      <td>I could feel at the time. There was no way of ...</td>\n",
       "      <td>ENGLISH</td>\n",
       "    </tr>\n",
       "    <tr>\n",
       "      <th>1</th>\n",
       "      <td>/10000-maniacs/</td>\n",
       "      <td>Because The Night</td>\n",
       "      <td>/10000-maniacs/because-the-night.html</td>\n",
       "      <td>Take me now, baby, here as I am. Hold me close...</td>\n",
       "      <td>ENGLISH</td>\n",
       "    </tr>\n",
       "    <tr>\n",
       "      <th>2</th>\n",
       "      <td>/10000-maniacs/</td>\n",
       "      <td>These Are Days</td>\n",
       "      <td>/10000-maniacs/these-are-days.html</td>\n",
       "      <td>These are. These are days you'll remember. Nev...</td>\n",
       "      <td>ENGLISH</td>\n",
       "    </tr>\n",
       "    <tr>\n",
       "      <th>3</th>\n",
       "      <td>/10000-maniacs/</td>\n",
       "      <td>A Campfire Song</td>\n",
       "      <td>/10000-maniacs/a-campfire-song.html</td>\n",
       "      <td>A lie to say, \"O my mountain has coal veins an...</td>\n",
       "      <td>ENGLISH</td>\n",
       "    </tr>\n",
       "    <tr>\n",
       "      <th>4</th>\n",
       "      <td>/10000-maniacs/</td>\n",
       "      <td>Everyday Is Like Sunday</td>\n",
       "      <td>/10000-maniacs/everyday-is-like-sunday.html</td>\n",
       "      <td>Trudging slowly over wet sand. Back to the ben...</td>\n",
       "      <td>ENGLISH</td>\n",
       "    </tr>\n",
       "  </tbody>\n",
       "</table>\n",
       "</div>"
      ],
      "text/plain": [
       "             ALink                    SName  \\\n",
       "0  /10000-maniacs/           More Than This   \n",
       "1  /10000-maniacs/        Because The Night   \n",
       "2  /10000-maniacs/           These Are Days   \n",
       "3  /10000-maniacs/          A Campfire Song   \n",
       "4  /10000-maniacs/  Everyday Is Like Sunday   \n",
       "\n",
       "                                         SLink  \\\n",
       "0           /10000-maniacs/more-than-this.html   \n",
       "1        /10000-maniacs/because-the-night.html   \n",
       "2           /10000-maniacs/these-are-days.html   \n",
       "3          /10000-maniacs/a-campfire-song.html   \n",
       "4  /10000-maniacs/everyday-is-like-sunday.html   \n",
       "\n",
       "                                               Lyric    Idiom  \n",
       "0  I could feel at the time. There was no way of ...  ENGLISH  \n",
       "1  Take me now, baby, here as I am. Hold me close...  ENGLISH  \n",
       "2  These are. These are days you'll remember. Nev...  ENGLISH  \n",
       "3  A lie to say, \"O my mountain has coal veins an...  ENGLISH  \n",
       "4  Trudging slowly over wet sand. Back to the ben...  ENGLISH  "
      ]
     },
     "execution_count": 26,
     "metadata": {},
     "output_type": "execute_result"
    }
   ],
   "source": [
    "df.head()"
   ]
  },
  {
   "cell_type": "code",
   "execution_count": 27,
   "id": "62e04226",
   "metadata": {},
   "outputs": [],
   "source": [
    "df.drop(['ALink', 'SName', 'SLink'], axis = 1, inplace = True)"
   ]
  },
  {
   "cell_type": "code",
   "execution_count": 28,
   "id": "6483224b",
   "metadata": {},
   "outputs": [
    {
     "data": {
      "text/html": [
       "<div>\n",
       "<style scoped>\n",
       "    .dataframe tbody tr th:only-of-type {\n",
       "        vertical-align: middle;\n",
       "    }\n",
       "\n",
       "    .dataframe tbody tr th {\n",
       "        vertical-align: top;\n",
       "    }\n",
       "\n",
       "    .dataframe thead th {\n",
       "        text-align: right;\n",
       "    }\n",
       "</style>\n",
       "<table border=\"1\" class=\"dataframe\">\n",
       "  <thead>\n",
       "    <tr style=\"text-align: right;\">\n",
       "      <th></th>\n",
       "      <th>Lyric</th>\n",
       "      <th>Idiom</th>\n",
       "    </tr>\n",
       "  </thead>\n",
       "  <tbody>\n",
       "    <tr>\n",
       "      <th>0</th>\n",
       "      <td>I could feel at the time. There was no way of ...</td>\n",
       "      <td>ENGLISH</td>\n",
       "    </tr>\n",
       "    <tr>\n",
       "      <th>1</th>\n",
       "      <td>Take me now, baby, here as I am. Hold me close...</td>\n",
       "      <td>ENGLISH</td>\n",
       "    </tr>\n",
       "    <tr>\n",
       "      <th>2</th>\n",
       "      <td>These are. These are days you'll remember. Nev...</td>\n",
       "      <td>ENGLISH</td>\n",
       "    </tr>\n",
       "    <tr>\n",
       "      <th>3</th>\n",
       "      <td>A lie to say, \"O my mountain has coal veins an...</td>\n",
       "      <td>ENGLISH</td>\n",
       "    </tr>\n",
       "    <tr>\n",
       "      <th>4</th>\n",
       "      <td>Trudging slowly over wet sand. Back to the ben...</td>\n",
       "      <td>ENGLISH</td>\n",
       "    </tr>\n",
       "  </tbody>\n",
       "</table>\n",
       "</div>"
      ],
      "text/plain": [
       "                                               Lyric    Idiom\n",
       "0  I could feel at the time. There was no way of ...  ENGLISH\n",
       "1  Take me now, baby, here as I am. Hold me close...  ENGLISH\n",
       "2  These are. These are days you'll remember. Nev...  ENGLISH\n",
       "3  A lie to say, \"O my mountain has coal veins an...  ENGLISH\n",
       "4  Trudging slowly over wet sand. Back to the ben...  ENGLISH"
      ]
     },
     "execution_count": 28,
     "metadata": {},
     "output_type": "execute_result"
    }
   ],
   "source": [
    "df.head()"
   ]
  },
  {
   "cell_type": "code",
   "execution_count": 29,
   "id": "f773f615",
   "metadata": {},
   "outputs": [
    {
     "data": {
      "text/html": [
       "<div>\n",
       "<style scoped>\n",
       "    .dataframe tbody tr th:only-of-type {\n",
       "        vertical-align: middle;\n",
       "    }\n",
       "\n",
       "    .dataframe tbody tr th {\n",
       "        vertical-align: top;\n",
       "    }\n",
       "\n",
       "    .dataframe thead th {\n",
       "        text-align: right;\n",
       "    }\n",
       "</style>\n",
       "<table border=\"1\" class=\"dataframe\">\n",
       "  <thead>\n",
       "    <tr style=\"text-align: right;\">\n",
       "      <th></th>\n",
       "      <th>Lyric</th>\n",
       "      <th>Idiom</th>\n",
       "    </tr>\n",
       "  </thead>\n",
       "  <tbody>\n",
       "    <tr>\n",
       "      <th>0</th>\n",
       "      <td>I could feel at the time. There was no way of ...</td>\n",
       "      <td>ENGLISH</td>\n",
       "    </tr>\n",
       "    <tr>\n",
       "      <th>1</th>\n",
       "      <td>Take me now, baby, here as I am. Hold me close...</td>\n",
       "      <td>ENGLISH</td>\n",
       "    </tr>\n",
       "    <tr>\n",
       "      <th>2</th>\n",
       "      <td>These are. These are days you'll remember. Nev...</td>\n",
       "      <td>ENGLISH</td>\n",
       "    </tr>\n",
       "    <tr>\n",
       "      <th>3</th>\n",
       "      <td>A lie to say, \"O my mountain has coal veins an...</td>\n",
       "      <td>ENGLISH</td>\n",
       "    </tr>\n",
       "    <tr>\n",
       "      <th>4</th>\n",
       "      <td>Trudging slowly over wet sand. Back to the ben...</td>\n",
       "      <td>ENGLISH</td>\n",
       "    </tr>\n",
       "    <tr>\n",
       "      <th>...</th>\n",
       "      <td>...</td>\n",
       "      <td>...</td>\n",
       "    </tr>\n",
       "    <tr>\n",
       "      <th>209517</th>\n",
       "      <td>Eu vou botar teu nome na macumba. Vou procurar...</td>\n",
       "      <td>PORTUGUESE</td>\n",
       "    </tr>\n",
       "    <tr>\n",
       "      <th>209518</th>\n",
       "      <td>Vou procurar um novo amor na minha vida. Porqu...</td>\n",
       "      <td>PORTUGUESE</td>\n",
       "    </tr>\n",
       "    <tr>\n",
       "      <th>209519</th>\n",
       "      <td>Quando a mare vazá. Vou vê juliana. Vou vê jul...</td>\n",
       "      <td>PORTUGUESE</td>\n",
       "    </tr>\n",
       "    <tr>\n",
       "      <th>209520</th>\n",
       "      <td>Ô Yaô. Yaô, cadê a samba?. Está mangando na cu...</td>\n",
       "      <td>PORTUGUESE</td>\n",
       "    </tr>\n",
       "    <tr>\n",
       "      <th>209521</th>\n",
       "      <td>Ô, Zeca, tu tá morando onde?. Ô, Zeca, tu tá m...</td>\n",
       "      <td>PORTUGUESE</td>\n",
       "    </tr>\n",
       "  </tbody>\n",
       "</table>\n",
       "<p>209522 rows × 2 columns</p>\n",
       "</div>"
      ],
      "text/plain": [
       "                                                    Lyric       Idiom\n",
       "0       I could feel at the time. There was no way of ...     ENGLISH\n",
       "1       Take me now, baby, here as I am. Hold me close...     ENGLISH\n",
       "2       These are. These are days you'll remember. Nev...     ENGLISH\n",
       "3       A lie to say, \"O my mountain has coal veins an...     ENGLISH\n",
       "4       Trudging slowly over wet sand. Back to the ben...     ENGLISH\n",
       "...                                                   ...         ...\n",
       "209517  Eu vou botar teu nome na macumba. Vou procurar...  PORTUGUESE\n",
       "209518  Vou procurar um novo amor na minha vida. Porqu...  PORTUGUESE\n",
       "209519  Quando a mare vazá. Vou vê juliana. Vou vê jul...  PORTUGUESE\n",
       "209520  Ô Yaô. Yaô, cadê a samba?. Está mangando na cu...  PORTUGUESE\n",
       "209521  Ô, Zeca, tu tá morando onde?. Ô, Zeca, tu tá m...  PORTUGUESE\n",
       "\n",
       "[209522 rows x 2 columns]"
      ]
     },
     "execution_count": 29,
     "metadata": {},
     "output_type": "execute_result"
    }
   ],
   "source": [
    "df"
   ]
  },
  {
   "cell_type": "code",
   "execution_count": 30,
   "id": "3a413bda",
   "metadata": {},
   "outputs": [
    {
     "data": {
      "text/plain": [
       "ENGLISH           114723\n",
       "PORTUGUESE         85085\n",
       "SPANISH             4812\n",
       "ITALIAN              626\n",
       "FRENCH               471\n",
       "GERMAN               314\n",
       "KINYARWANDA           88\n",
       "ICELANDIC             47\n",
       "SWEDISH               27\n",
       "FINNISH               24\n",
       "INDONESIAN            17\n",
       "GALICIAN              12\n",
       "ESTONIAN              12\n",
       "HAITIAN_CREOLE         9\n",
       "IRISH                  9\n",
       "DANISH                 9\n",
       "BASQUE                 8\n",
       "TAGALOG                7\n",
       "CROATIAN               7\n",
       "NORWEGIAN              7\n",
       "CATALAN                6\n",
       "SUNDANESE              6\n",
       "DUTCH                  5\n",
       "SWAHILI                5\n",
       "RUSSIAN                4\n",
       "MALAY                  4\n",
       "SERBIAN                3\n",
       "KURDISH                2\n",
       "SESOTHO                2\n",
       "CEBUANO                2\n",
       "JAPANESE               2\n",
       "MALAGASY               2\n",
       "TURKISH                2\n",
       "ARABIC                 2\n",
       "NYANJA                 2\n",
       "HUNGARIAN              1\n",
       "CZECH                  1\n",
       "SLOVENIAN              1\n",
       "GANDA                  1\n",
       "HMONG                  1\n",
       "AFRIKAANS              1\n",
       "KOREAN                 1\n",
       "SLOVAK                 1\n",
       "POLISH                 1\n",
       "WELSH                  1\n",
       "BOSNIAN                1\n",
       "ROMANIAN               1\n",
       "Name: Idiom, dtype: int64"
      ]
     },
     "execution_count": 30,
     "metadata": {},
     "output_type": "execute_result"
    }
   ],
   "source": [
    "df['Idiom'].value_counts()"
   ]
  },
  {
   "cell_type": "code",
   "execution_count": 31,
   "id": "bd143a6f",
   "metadata": {},
   "outputs": [],
   "source": [
    "df = df[df['Idiom']=='ENGLISH']"
   ]
  },
  {
   "cell_type": "code",
   "execution_count": 32,
   "id": "a4f23aaa",
   "metadata": {},
   "outputs": [
    {
     "data": {
      "text/html": [
       "<div>\n",
       "<style scoped>\n",
       "    .dataframe tbody tr th:only-of-type {\n",
       "        vertical-align: middle;\n",
       "    }\n",
       "\n",
       "    .dataframe tbody tr th {\n",
       "        vertical-align: top;\n",
       "    }\n",
       "\n",
       "    .dataframe thead th {\n",
       "        text-align: right;\n",
       "    }\n",
       "</style>\n",
       "<table border=\"1\" class=\"dataframe\">\n",
       "  <thead>\n",
       "    <tr style=\"text-align: right;\">\n",
       "      <th></th>\n",
       "      <th>Lyric</th>\n",
       "      <th>Idiom</th>\n",
       "    </tr>\n",
       "  </thead>\n",
       "  <tbody>\n",
       "    <tr>\n",
       "      <th>0</th>\n",
       "      <td>I could feel at the time. There was no way of ...</td>\n",
       "      <td>ENGLISH</td>\n",
       "    </tr>\n",
       "    <tr>\n",
       "      <th>1</th>\n",
       "      <td>Take me now, baby, here as I am. Hold me close...</td>\n",
       "      <td>ENGLISH</td>\n",
       "    </tr>\n",
       "    <tr>\n",
       "      <th>2</th>\n",
       "      <td>These are. These are days you'll remember. Nev...</td>\n",
       "      <td>ENGLISH</td>\n",
       "    </tr>\n",
       "    <tr>\n",
       "      <th>3</th>\n",
       "      <td>A lie to say, \"O my mountain has coal veins an...</td>\n",
       "      <td>ENGLISH</td>\n",
       "    </tr>\n",
       "    <tr>\n",
       "      <th>4</th>\n",
       "      <td>Trudging slowly over wet sand. Back to the ben...</td>\n",
       "      <td>ENGLISH</td>\n",
       "    </tr>\n",
       "    <tr>\n",
       "      <th>...</th>\n",
       "      <td>...</td>\n",
       "      <td>...</td>\n",
       "    </tr>\n",
       "    <tr>\n",
       "      <th>207619</th>\n",
       "      <td>I was so high I did not recognize. The fire bu...</td>\n",
       "      <td>ENGLISH</td>\n",
       "    </tr>\n",
       "    <tr>\n",
       "      <th>207624</th>\n",
       "      <td>Well sometimes I go out by myself. And I look ...</td>\n",
       "      <td>ENGLISH</td>\n",
       "    </tr>\n",
       "    <tr>\n",
       "      <th>207628</th>\n",
       "      <td>Feeling my way through the darkness. Guided by...</td>\n",
       "      <td>ENGLISH</td>\n",
       "    </tr>\n",
       "    <tr>\n",
       "      <th>207792</th>\n",
       "      <td>Don't, don't, that's what you say. Each time t...</td>\n",
       "      <td>ENGLISH</td>\n",
       "    </tr>\n",
       "    <tr>\n",
       "      <th>209285</th>\n",
       "      <td>I've been. For almost everything in life. In t...</td>\n",
       "      <td>ENGLISH</td>\n",
       "    </tr>\n",
       "  </tbody>\n",
       "</table>\n",
       "<p>114723 rows × 2 columns</p>\n",
       "</div>"
      ],
      "text/plain": [
       "                                                    Lyric    Idiom\n",
       "0       I could feel at the time. There was no way of ...  ENGLISH\n",
       "1       Take me now, baby, here as I am. Hold me close...  ENGLISH\n",
       "2       These are. These are days you'll remember. Nev...  ENGLISH\n",
       "3       A lie to say, \"O my mountain has coal veins an...  ENGLISH\n",
       "4       Trudging slowly over wet sand. Back to the ben...  ENGLISH\n",
       "...                                                   ...      ...\n",
       "207619  I was so high I did not recognize. The fire bu...  ENGLISH\n",
       "207624  Well sometimes I go out by myself. And I look ...  ENGLISH\n",
       "207628  Feeling my way through the darkness. Guided by...  ENGLISH\n",
       "207792  Don't, don't, that's what you say. Each time t...  ENGLISH\n",
       "209285  I've been. For almost everything in life. In t...  ENGLISH\n",
       "\n",
       "[114723 rows x 2 columns]"
      ]
     },
     "execution_count": 32,
     "metadata": {},
     "output_type": "execute_result"
    }
   ],
   "source": [
    "df"
   ]
  },
  {
   "cell_type": "code",
   "execution_count": 33,
   "id": "9cb01092",
   "metadata": {},
   "outputs": [
    {
     "name": "stderr",
     "output_type": "stream",
     "text": [
      "/Users/asifkibria/opt/anaconda3/lib/python3.8/site-packages/pandas/core/frame.py:4906: SettingWithCopyWarning: \n",
      "A value is trying to be set on a copy of a slice from a DataFrame\n",
      "\n",
      "See the caveats in the documentation: https://pandas.pydata.org/pandas-docs/stable/user_guide/indexing.html#returning-a-view-versus-a-copy\n",
      "  return super().drop(\n"
     ]
    }
   ],
   "source": [
    "# Keeping only the Lyrics column, remove everything else \n",
    "df.drop(['Idiom'], axis=1, inplace = True)"
   ]
  },
  {
   "cell_type": "code",
   "execution_count": 34,
   "id": "242f3b60",
   "metadata": {},
   "outputs": [],
   "source": [
    "# Removing headers\n",
    "# df = df.rename(columns=df.iloc[0]).drop(df.index[0])"
   ]
  },
  {
   "cell_type": "code",
   "execution_count": 35,
   "id": "33ca3602",
   "metadata": {},
   "outputs": [
    {
     "data": {
      "text/plain": [
       "114723"
      ]
     },
     "execution_count": 35,
     "metadata": {},
     "output_type": "execute_result"
    }
   ],
   "source": [
    "df.size"
   ]
  },
  {
   "cell_type": "code",
   "execution_count": 36,
   "id": "0d7c0757",
   "metadata": {},
   "outputs": [],
   "source": [
    "# The size of this dataset is sofar 114723 songs lyrics, Let's reduce it to 5000 songs lyrics\n",
    "df = df[:5000]"
   ]
  },
  {
   "cell_type": "code",
   "execution_count": 37,
   "id": "cddd808c",
   "metadata": {},
   "outputs": [],
   "source": [
    "# Joining in a Single cell for processing a single text \n",
    "df = pd.DataFrame(df.agg(lambda x: ' '.join(x.astype(str)))).T"
   ]
  },
  {
   "cell_type": "code",
   "execution_count": 38,
   "id": "c390fdb1",
   "metadata": {},
   "outputs": [
    {
     "data": {
      "text/html": [
       "<div>\n",
       "<style scoped>\n",
       "    .dataframe tbody tr th:only-of-type {\n",
       "        vertical-align: middle;\n",
       "    }\n",
       "\n",
       "    .dataframe tbody tr th {\n",
       "        vertical-align: top;\n",
       "    }\n",
       "\n",
       "    .dataframe thead th {\n",
       "        text-align: right;\n",
       "    }\n",
       "</style>\n",
       "<table border=\"1\" class=\"dataframe\">\n",
       "  <thead>\n",
       "    <tr style=\"text-align: right;\">\n",
       "      <th></th>\n",
       "      <th>Lyric</th>\n",
       "    </tr>\n",
       "  </thead>\n",
       "  <tbody>\n",
       "    <tr>\n",
       "      <th>0</th>\n",
       "      <td>I could feel at the time. There was no way of ...</td>\n",
       "    </tr>\n",
       "  </tbody>\n",
       "</table>\n",
       "</div>"
      ],
      "text/plain": [
       "                                               Lyric\n",
       "0  I could feel at the time. There was no way of ..."
      ]
     },
     "execution_count": 38,
     "metadata": {},
     "output_type": "execute_result"
    }
   ],
   "source": [
    "df"
   ]
  },
  {
   "cell_type": "code",
   "execution_count": 39,
   "id": "9b47bc8a",
   "metadata": {},
   "outputs": [
    {
     "data": {
      "text/plain": [
       "0    1104726\n",
       "Name: Lyric, dtype: int64"
      ]
     },
     "execution_count": 39,
     "metadata": {},
     "output_type": "execute_result"
    }
   ],
   "source": [
    "# Let's count the total number of words in our dataset.\n",
    "df['Lyric'].str.count(' ') + 1"
   ]
  },
  {
   "cell_type": "code",
   "execution_count": 48,
   "id": "97e01461",
   "metadata": {},
   "outputs": [],
   "source": [
    "# Lowercased everything\n",
    "df['Lyric'] = df['Lyric'].str.lower()"
   ]
  },
  {
   "cell_type": "code",
   "execution_count": 49,
   "id": "3d0f45c9",
   "metadata": {},
   "outputs": [
    {
     "data": {
      "text/plain": [
       "the          44294\n",
       "i            35481\n",
       "you          30852\n",
       "to           25194\n",
       "and          24881\n",
       "             ...  \n",
       "um..             1\n",
       "\"hi,             1\n",
       "dunaway).        1\n",
       "ezrin,           1\n",
       "gotcha.          1\n",
       "Length: 47720, dtype: int64"
      ]
     },
     "execution_count": 49,
     "metadata": {},
     "output_type": "execute_result"
    }
   ],
   "source": [
    "#Counting the number of unique words in the data sets.\n",
    "df.Lyric.apply(lambda x: pd.value_counts(x.split(\" \"))).sum(axis = 0)"
   ]
  },
  {
   "cell_type": "code",
   "execution_count": 55,
   "id": "f4666763",
   "metadata": {},
   "outputs": [
    {
     "name": "stderr",
     "output_type": "stream",
     "text": [
      "/var/folders/mk/r1qb9ywj4d96pwpmy4w41d480000gn/T/ipykernel_81887/2411793745.py:2: FutureWarning: The default value of regex will change from True to False in a future version. In addition, single character regular expressions will *not* be treated as literal strings when regex=True.\n",
      "  df['Lyric'] = df['Lyric'].str.replace('(', '')\n"
     ]
    }
   ],
   "source": [
    "#Need to keep only lowercased letters in the words. Others numerics and special characters needed to be removed (Other than \",\" \"''\").\n",
    "df['Lyric'] = df['Lyric'].str.replace('(', '')\n"
   ]
  },
  {
   "cell_type": "code",
   "execution_count": 56,
   "id": "fef862a7",
   "metadata": {},
   "outputs": [
    {
     "data": {
      "text/plain": [
       "the           44331\n",
       "i             35750\n",
       "you           30954\n",
       "to            25221\n",
       "and           24975\n",
       "              ...  \n",
       "enough!           1\n",
       "child-king        1\n",
       "dimented          1\n",
       "ruled.            1\n",
       "adapting,.        1\n",
       "Length: 47069, dtype: int64"
      ]
     },
     "execution_count": 56,
     "metadata": {},
     "output_type": "execute_result"
    }
   ],
   "source": [
    "#If It Worked!\n",
    "df.Lyric.apply(lambda x: pd.value_counts(x.split(\" \"))).sum(axis = 0)"
   ]
  },
  {
   "cell_type": "code",
   "execution_count": 57,
   "id": "03bd20c2",
   "metadata": {},
   "outputs": [
    {
     "name": "stderr",
     "output_type": "stream",
     "text": [
      "/var/folders/mk/r1qb9ywj4d96pwpmy4w41d480000gn/T/ipykernel_81887/2782205366.py:2: FutureWarning: The default value of regex will change from True to False in a future version. In addition, single character regular expressions will *not* be treated as literal strings when regex=True.\n",
      "  df['Lyric'] = df['Lyric'].str.replace(')', '')\n"
     ]
    }
   ],
   "source": [
    "#Need to keep only lowercased letters in the words. Others numerics and special characters needed to be removed (Other than \",\" \"''\").\n",
    "df['Lyric'] = df['Lyric'].str.replace(')', '')\n"
   ]
  },
  {
   "cell_type": "code",
   "execution_count": 115,
   "id": "3cd95fc6",
   "metadata": {},
   "outputs": [
    {
     "data": {
      "text/plain": [
       "chats             1\n",
       "backseat.         1\n",
       "alone\"            1\n",
       "eurydice!.        1\n",
       "écho.             1\n",
       "comme             1\n",
       "l'eau.            1\n",
       "côté              1\n",
       "l'autre           1\n",
       "messenger..       1\n",
       "groan             1\n",
       "vigil.            1\n",
       "sister's.         1\n",
       "reset             1\n",
       "disassociate..    1\n",
       "outside..         1\n",
       "postman.          1\n",
       "tree's.           1\n",
       "countryside.      1\n",
       "orpheus,          1\n",
       "appliances.       1\n",
       "kind's            1\n",
       "une               1\n",
       "econosize         1\n",
       "joan.             1\n",
       "respose           1\n",
       "voix.             1\n",
       "j'entends         1\n",
       "battled!          1\n",
       "sainte.           1\n",
       "desolate..        1\n",
       "muse.             1\n",
       "alors             1\n",
       "implore           1\n",
       "crois             1\n",
       "penetrate,        1\n",
       "juge.             1\n",
       "\"recreate         1\n",
       "bori              1\n",
       "harm-free         1\n",
       "dtype: int64"
      ]
     },
     "execution_count": 115,
     "metadata": {},
     "output_type": "execute_result"
    }
   ],
   "source": [
    "#If It Worked!\n",
    "df['Lyric'] = df['Lyric'].str.replace('@@', '')\n",
    "counts_of_unique_words = df.Lyric.apply(lambda x: pd.value_counts(x.split(\" \"))).sum(axis = 0)\n",
    "counts_of_unique_words\n",
    "counts_of_unique_words.tail(40)"
   ]
  },
  {
   "cell_type": "code",
   "execution_count": 116,
   "id": "fd09390f",
   "metadata": {},
   "outputs": [
    {
     "data": {
      "text/plain": [
       "the       44334\n",
       "i         35765\n",
       "you       30961\n",
       "to        25229\n",
       "and       24983\n",
       "a         22252\n",
       "my        14356\n",
       "in        13465\n",
       "of        12534\n",
       "your      11712\n",
       "it        11075\n",
       "me        10081\n",
       "i'm        9878\n",
       "that       8671\n",
       "on         8420\n",
       "all        8293\n",
       "we         8099\n",
       "is         7997\n",
       "for        7295\n",
       "so         7092\n",
       "be         6607\n",
       "don't      6504\n",
       "but        6044\n",
       "it's       5947\n",
       "this       5823\n",
       "with       5500\n",
       "just       5445\n",
       "what       5382\n",
       "like       5296\n",
       "when       4936\n",
       "no         4837\n",
       "got        4534\n",
       "know       4505\n",
       "me.        4429\n",
       "you're     4370\n",
       "can        4200\n",
       "if         3975\n",
       "are        3921\n",
       "you.       3910\n",
       "get        3875\n",
       "dtype: int64"
      ]
     },
     "execution_count": 116,
     "metadata": {},
     "output_type": "execute_result"
    }
   ],
   "source": [
    "counts_of_unique_words.head(40)"
   ]
  },
  {
   "cell_type": "code",
   "execution_count": 117,
   "id": "d378e1e0",
   "metadata": {},
   "outputs": [
    {
     "data": {
      "text/plain": [
       "the           44334\n",
       "i             35765\n",
       "you           30961\n",
       "to            25229\n",
       "and           24983\n",
       "              ...  \n",
       "penetrate,        1\n",
       "juge.             1\n",
       "\"recreate         1\n",
       "bori              1\n",
       "harm-free         1\n",
       "Length: 45568, dtype: int64"
      ]
     },
     "execution_count": 117,
     "metadata": {},
     "output_type": "execute_result"
    }
   ],
   "source": [
    "#Cleaned for the purpose so far. TODO:removing non-english characters.\n",
    "counts_of_unique_words"
   ]
  },
  {
   "cell_type": "code",
   "execution_count": 137,
   "id": "b2b4a6d8",
   "metadata": {
    "scrolled": true
   },
   "outputs": [
    {
     "data": {
      "text/plain": [
       "<AxesSubplot:>"
      ]
     },
     "execution_count": 137,
     "metadata": {},
     "output_type": "execute_result"
    },
    {
     "data": {
      "image/png": "[encoded data removed]",
      "text/plain": [
       "<Figure size 432x288 with 1 Axes>"
      ]
     },
     "metadata": {},
     "output_type": "display_data"
    }
   ],
   "source": [
    "#Let's Plot a Linegraph to see the wordcounts of first 100 Words frequency.\n",
    "plot_data = counts_of_unique_words[:100]\n",
    "#plt.figure(figsize=(60,25))\n",
    "sns.lineplot(data=plot_data)"
   ]
  },
  {
   "cell_type": "code",
   "execution_count": 138,
   "id": "44848314",
   "metadata": {},
   "outputs": [
    {
     "data": {
      "text/plain": [
       "the      44334\n",
       "i        35765\n",
       "you      30961\n",
       "to       25229\n",
       "and      24983\n",
       "         ...  \n",
       "down.     1564\n",
       "think     1522\n",
       "too       1473\n",
       "here      1406\n",
       "find      1391\n",
       "Length: 100, dtype: int64"
      ]
     },
     "execution_count": 138,
     "metadata": {},
     "output_type": "execute_result"
    }
   ],
   "source": [
    "#This is a very steep lines, that means words like 'the', 'i', 'you', 'to' used more frequently in the lyrics.\n",
    "plot_data"
   ]
  },
  {
   "cell_type": "code",
   "execution_count": 142,
   "id": "db1064c6",
   "metadata": {},
   "outputs": [],
   "source": [
    "#Now Export the file as a text file to train in \"torch-rnn\" to generate some lyrics.\n",
    "np.savetxt(r'Data/input.txt', df.values, fmt='%str')"
   ]
  },
  {
   "cell_type": "markdown",
   "id": "83a2f0a5",
   "metadata": {},
   "source": [
    "## Data processing is now completed. Follow the next steps described [here](https://github.com/AsifKibria/NLP_Text_Generation)"
   ]
  }
 ],
 "metadata": {
  "kernelspec": {
   "display_name": "Python 3 (ipykernel)",
   "language": "python",
   "name": "python3"
  },
  "language_info": {
   "codemirror_mode": {
    "name": "ipython",
    "version": 3
   },
   "file_extension": ".py",
   "mimetype": "text/x-python",
   "name": "python",
   "nbconvert_exporter": "python",
   "pygments_lexer": "ipython3",
   "version": "3.8.11"
  }
 },
 "nbformat": 4,
 "nbformat_minor": 5
}
